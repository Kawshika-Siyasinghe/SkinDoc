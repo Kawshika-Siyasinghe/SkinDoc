{
 "cells": [
  {
   "cell_type": "markdown",
   "metadata": {},
   "source": [
    "# Classification of Skin Cancer: Malignant vs Benign using Deep Learning"
   ]
  },
  {
   "cell_type": "markdown",
   "metadata": {},
   "source": [
    "###  used opencv for preprocessing the image dataset\n",
    "### used tensorflow and keras library for machine learning stuff"
   ]
  },
  {
   "cell_type": "code",
   "execution_count": 6,
   "metadata": {},
   "outputs": [],
   "source": [
    "import cv2\n",
    "import matplotlib.pyplot as plt\n",
    "import os\n",
    "import numpy as np\n",
    "import tensorflow as tf\n",
    "from tensorflow.keras import applications\n",
    "from tensorflow.keras import optimizers\n",
    "import argparse\n",
    "from imutils import paths\n",
    "import np_utils\n"
   ]
  },
  {
   "cell_type": "markdown",
   "metadata": {},
   "source": [
    "### first set the image dataset directory and  then define the categories"
   ]
  },
  {
   "cell_type": "code",
   "execution_count": 7,
   "metadata": {},
   "outputs": [],
   "source": [
    "datadir = 'C:/Users/Acer/Desktop/Sample Repo/SkinDoc/DataScience/MDL_Files/Traning Dataset-SkinDoc'\n",
    "categories=[ 'benign', 'malignant']"
   ]
  },
  {
   "cell_type": "markdown",
   "metadata": {},
   "source": [
    "### using opencv,  reading the   images from  image dataset directory and resize images to 96*96\n",
    "### then insert the resized image with class lable to array"
   ]
  },
  {
   "cell_type": "code",
   "execution_count": 8,
   "metadata": {},
   "outputs": [],
   "source": [
    "training_data=[]\n",
    "def create_training_data():\n",
    "    for category in categories:\n",
    "        path = os.path.join(datadir,category)\n",
    "        class_num = categories.index(category)\n",
    "        for img in os.listdir(path):\n",
    "            try:\n",
    "                img_array = cv2.imread(os.path.join(path,img))\n",
    "                new_array = cv2.resize(img_array,(96,96))\n",
    "                training_data.append([new_array,class_num])\n",
    "            except Exception as e:    \n",
    "                pass\n",
    "create_training_data() "
   ]
  },
  {
   "cell_type": "markdown",
   "metadata": {},
   "source": [
    "### append features and labels to a separated list\n",
    "### then convert the feature array into a NumPy array and reshape the array\n"
   ]
  },
  {
   "cell_type": "code",
   "execution_count": 9,
   "metadata": {},
   "outputs": [
    {
     "data": {
      "text/plain": [
       "(3297, 96, 96, 3)"
      ]
     },
     "execution_count": 9,
     "metadata": {},
     "output_type": "execute_result"
    }
   ],
   "source": [
    "x=[]\n",
    "y=[]\n",
    "\n",
    "for features,label in training_data:\n",
    "    x.append(features)\n",
    "    y.append(label)\n",
    "x = np.array(x).reshape(3297,96,96,3)\n",
    "x.shape"
   ]
  },
  {
   "cell_type": "markdown",
   "metadata": {},
   "source": [
    "### partition the data into training and testing splits using 80% of the data for training and the remaining 20% for testing"
   ]
  },
  {
   "cell_type": "code",
   "execution_count": 10,
   "metadata": {},
   "outputs": [],
   "source": [
    "from sklearn.model_selection import train_test_split\n",
    "x_train,x_test,y_train,y_test = train_test_split(x,y,test_size=0.2,random_state=42)"
   ]
  },
  {
   "cell_type": "markdown",
   "metadata": {},
   "source": [
    "### then preprocess dataset by scaling all pixel intensities to the range [0, 1]"
   ]
  },
  {
   "cell_type": "code",
   "execution_count": 11,
   "metadata": {},
   "outputs": [],
   "source": [
    "x_train=x_train.astype('float32')\n",
    "x_test=x_test.astype('float32')\n",
    "x_train/=255\n",
    "x_test/=255"
   ]
  },
  {
   "cell_type": "markdown",
   "metadata": {},
   "source": [
    "### encode the labels (which are currently strings) as integers and then one-hot encode them"
   ]
  },
  {
   "cell_type": "code",
   "execution_count": 12,
   "metadata": {},
   "outputs": [],
   "source": [
    "y_train = tf.keras.utils.to_categorical(y_train, 2)\n",
    "y_test = tf.keras.utils.to_categorical(y_test, 2)\n"
   ]
  },
  {
   "cell_type": "markdown",
   "metadata": {},
   "source": [
    "### import VGG19 model (for Transfer learning)\n"
   ]
  },
  {
   "cell_type": "code",
   "execution_count": 13,
   "metadata": {},
   "outputs": [],
   "source": [
    "model = applications.VGG19(weights = \"imagenet\", include_top=False, input_shape = (96, 96, 3))\n"
   ]
  },
  {
   "cell_type": "markdown",
   "metadata": {},
   "source": [
    "### first step iterate through the model and make 20 layer non-trainable\n",
    "### then add pooling layer and add some dense layers with relu activation\n",
    "###  used categorical_crossentropy loss function and Adam as the optimizer"
   ]
  },
  {
   "cell_type": "code",
   "execution_count": 14,
   "metadata": {},
   "outputs": [],
   "source": [
    "for layer in model.layers[:20]:\n",
    "    layer.trainable = False\n",
    "x = model.output\n",
    "x =  tf.keras.layers.GlobalAveragePooling2D()(x)\n",
    "x = tf.keras.layers.Dense(2048, activation=\"relu\")(x)\n",
    "x = tf.keras.layers.Dropout(0.5)(x)\n",
    "x = tf.keras.layers.Dense(1024, activation=\"relu\")(x)\n",
    "x = tf.keras.layers.Dropout(0.5)(x)\n",
    "x = tf.keras.layers.Dense(512, activation=\"relu\")(x)\n",
    "x = tf.keras.layers.Dropout(0.5)(x)\n",
    "x = tf.keras.layers.Dense(256, activation=\"relu\")(x)\n",
    "x = tf.keras.layers.Dropout(0.5)(x)\n",
    "x = tf.keras.layers.Dense(128, activation=\"relu\")(x)\n",
    "predictions = tf.keras.layers.Dense(2, activation=\"softmax\")(x)   \n",
    "model_final = tf.keras.models.Model(model.input,predictions)\n",
    "model_final.compile(loss=\"categorical_crossentropy\", optimizer='Adam', metrics=[\"accuracy\"])"
   ]
  },
  {
   "cell_type": "markdown",
   "metadata": {},
   "source": [
    "### fitting the  dataset to train "
   ]
  },
  {
   "cell_type": "code",
   "execution_count": 15,
   "metadata": {},
   "outputs": [
    {
     "name": "stdout",
     "output_type": "stream",
     "text": [
      "Train on 2637 samples, validate on 660 samples\n",
      "Epoch 1/10\n",
      "2637/2637 [==============================] - 174s 66ms/sample - loss: 0.5892 - accuracy: 0.6989 - val_loss: 0.4328 - val_accuracy: 0.7864\n",
      "Epoch 2/10\n",
      "2637/2637 [==============================] - 182s 69ms/sample - loss: 0.3869 - accuracy: 0.8237 - val_loss: 0.3959 - val_accuracy: 0.7970\n",
      "Epoch 3/10\n",
      "2637/2637 [==============================] - 168s 64ms/sample - loss: 0.3351 - accuracy: 0.8385 - val_loss: 0.3831 - val_accuracy: 0.8258\n",
      "Epoch 4/10\n",
      "2637/2637 [==============================] - 172s 65ms/sample - loss: 0.3298 - accuracy: 0.8449 - val_loss: 0.3955 - val_accuracy: 0.8091\n",
      "Epoch 5/10\n",
      "2637/2637 [==============================] - 169s 64ms/sample - loss: 0.3074 - accuracy: 0.8620 - val_loss: 0.3919 - val_accuracy: 0.8227\n",
      "Epoch 6/10\n",
      "2637/2637 [==============================] - 175s 67ms/sample - loss: 0.2946 - accuracy: 0.8661 - val_loss: 0.3739 - val_accuracy: 0.8394\n",
      "Epoch 7/10\n",
      "2637/2637 [==============================] - 180s 68ms/sample - loss: 0.2752 - accuracy: 0.8711 - val_loss: 0.4143 - val_accuracy: 0.8030\n",
      "Epoch 8/10\n",
      "2637/2637 [==============================] - 188s 71ms/sample - loss: 0.2719 - accuracy: 0.8813 - val_loss: 0.4479 - val_accuracy: 0.8197\n",
      "Epoch 9/10\n",
      "2637/2637 [==============================] - 204s 77ms/sample - loss: 0.2486 - accuracy: 0.8824 - val_loss: 0.5293 - val_accuracy: 0.8379\n",
      "Epoch 10/10\n",
      "2637/2637 [==============================] - 177s 67ms/sample - loss: 0.2376 - accuracy: 0.8961 - val_loss: 0.5237 - val_accuracy: 0.8485\n"
     ]
    }
   ],
   "source": [
    "history=model_final.fit(x_train, y_train,\n",
    "          batch_size=32,\n",
    "          epochs=10,\n",
    "          verbose=1,\n",
    "          validation_data=(x_test, y_test))"
   ]
  },
  {
   "cell_type": "markdown",
   "metadata": {},
   "source": [
    "### evaluate the model"
   ]
  },
  {
   "cell_type": "code",
   "execution_count": 16,
   "metadata": {},
   "outputs": [],
   "source": [
    "score = model_final.evaluate(x_test, y_test, verbose=0)"
   ]
  },
  {
   "cell_type": "code",
   "execution_count": 17,
   "metadata": {},
   "outputs": [
    {
     "name": "stdout",
     "output_type": "stream",
     "text": [
      "Test loss: 0.5236729401530642\n",
      "Test accuracy: 0.8484849\n"
     ]
    }
   ],
   "source": [
    "print('Test loss:', score[0])\n",
    "print('Test accuracy:', score[1])"
   ]
  },
  {
   "cell_type": "markdown",
   "metadata": {},
   "source": [
    "### Representing the  Graphs"
   ]
  },
  {
   "cell_type": "code",
   "execution_count": 18,
   "metadata": {},
   "outputs": [
    {
     "name": "stdout",
     "output_type": "stream",
     "text": [
      "dict_keys(['loss', 'accuracy', 'val_loss', 'val_accuracy'])\n"
     ]
    },
    {
     "data": {
      "image/png": "[encoded data removed]",
      "text/plain": [
       "<Figure size 432x288 with 1 Axes>"
      ]
     },
     "metadata": {
      "needs_background": "light"
     },
     "output_type": "display_data"
    },
    {
     "data": {
      "image/png": "[encoded data removed]",
      "text/plain": [
       "<Figure size 432x288 with 1 Axes>"
      ]
     },
     "metadata": {
      "needs_background": "light"
     },
     "output_type": "display_data"
    }
   ],
   "source": [
    "print(history.history.keys())\n",
    "\n",
    "plt.plot(history.history['accuracy'])\n",
    "plt.plot(history.history['val_accuracy'])\n",
    "plt.title('model accuracy')\n",
    "plt.ylabel('accuracy')\n",
    "plt.xlabel('epochs')\n",
    "plt.legend(['train', 'test'], loc='upper left')\n",
    "plt.show()\n",
    "\n",
    "plt.plot(history.history['loss'])\n",
    "plt.plot(history.history['val_loss'])\n",
    "plt.title('model loss')\n",
    "plt.ylabel('loss')\n",
    "plt.xlabel('epochs')\n",
    "plt.legend(['train', 'test'], loc='upper right')\n",
    "plt.show()\n",
    "\n"
   ]
  },
  {
   "cell_type": "code",
   "execution_count": null,
   "metadata": {},
   "outputs": [],
   "source": []
  }
 ],
 "metadata": {
  "kernelspec": {
   "display_name": "Python 3",
   "language": "python",
   "name": "python3"
  },
  "language_info": {
   "codemirror_mode": {
    "name": "ipython",
    "version": 3
   },
   "file_extension": ".py",
   "mimetype": "text/x-python",
   "name": "python",
   "nbconvert_exporter": "python",
   "pygments_lexer": "ipython3",
   "version": "3.6.10"
  }
 },
 "nbformat": 4,
 "nbformat_minor": 4
}

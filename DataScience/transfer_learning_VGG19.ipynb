{
 "cells": [
  {
   "cell_type": "markdown",
   "metadata": {},
   "source": [
    "# Classification of Skin Cancer: Malignant vs Benign using Deep Learning\n"
   ]
  },
  {
   "cell_type": "markdown",
   "metadata": {},
   "source": [
    "### we used opencv for preproccesing the image dataset\n",
    "### we used tensorflow and keras libarary for machine learning stuff "
   ]
  },
  {
   "cell_type": "code",
   "execution_count": 1,
   "metadata": {},
   "outputs": [],
   "source": [
    "import cv2\n",
    "import matplotlib.pyplot as plt\n",
    "import os\n",
    "import numpy as np\n",
    "import tensorflow as tf\n",
    "from tensorflow.keras import applications\n",
    "from tensorflow.keras import optimizers\n",
    "import argparse\n",
    "from imutils import paths\n",
    "import np_utils\n",
    "\n"
   ]
  },
  {
   "cell_type": "markdown",
   "metadata": {},
   "source": [
    "### first we set the image dataset directory and define the categories "
   ]
  },
  {
   "cell_type": "code",
   "execution_count": 2,
   "metadata": {},
   "outputs": [],
   "source": [
    "datadir='C:/Users/Acer/Desktop/DataScience-ML& DL Model/Traning Dataset -SkinDoc'\n",
    "categories = ['benign','malignant']"
   ]
  },
  {
   "cell_type": "markdown",
   "metadata": {},
   "source": [
    "### using the opencv, we read images from dataset directory and resize images to 96*96\n",
    "### then insert the resized image with class lable to array"
   ]
  },
  {
   "cell_type": "code",
   "execution_count": 3,
   "metadata": {},
   "outputs": [],
   "source": [
    "training_data=[]\n",
    "def create_training_data():\n",
    "    for category in categories:\n",
    "        path = os.path.join(datadir,category)\n",
    "        class_num = categories.index(category)\n",
    "        for img in os.listdir(path):\n",
    "            try:\n",
    "                img_array = cv2.imread(os.path.join(path,img))\n",
    "                new_array = cv2.resize(img_array,(96,96))\n",
    "                training_data.append([new_array,class_num])\n",
    "            except Exception as e:    \n",
    "                pass\n",
    "create_training_data() "
   ]
  },
  {
   "cell_type": "markdown",
   "metadata": {},
   "source": [
    "###  append features and labels to separated list\n",
    "### then convert the feature array into a NumPy array and reshape the array"
   ]
  },
  {
   "cell_type": "code",
   "execution_count": 4,
   "metadata": {},
   "outputs": [
    {
     "data": {
      "text/plain": [
       "(3297, 96, 96, 3)"
      ]
     },
     "execution_count": 4,
     "metadata": {},
     "output_type": "execute_result"
    }
   ],
   "source": [
    "x=[]\n",
    "y=[]\n",
    "\n",
    "for features,label in training_data:\n",
    "    x.append(features)\n",
    "    y.append(label)\n",
    "x = np.array(x).reshape(3297,96,96,3)\n",
    "x.shape"
   ]
  },
  {
   "cell_type": "markdown",
   "metadata": {},
   "source": [
    "### partition the data into training and testing splits using 80% of the data for training and the remaining 20% for testing"
   ]
  },
  {
   "cell_type": "code",
   "execution_count": 5,
   "metadata": {},
   "outputs": [],
   "source": [
    "from sklearn.model_selection import train_test_split\n",
    "x_train,x_test,y_train,y_test = train_test_split(x,y,test_size=0.2,random_state=42)"
   ]
  },
  {
   "cell_type": "markdown",
   "metadata": {},
   "source": [
    "### then preprocess dataset by scaling all pixel intensities to the range [0, 1]"
   ]
  },
  {
   "cell_type": "code",
   "execution_count": 6,
   "metadata": {},
   "outputs": [],
   "source": [
    "x_train=x_train.astype('float32')\n",
    "x_test=x_test.astype('float32')\n",
    "x_train/=255\n",
    "x_test/=255"
   ]
  },
  {
   "cell_type": "markdown",
   "metadata": {},
   "source": [
    "### encode the labels (which are currently strings) as integers and then one-hot encode them"
   ]
  },
  {
   "cell_type": "code",
   "execution_count": 7,
   "metadata": {},
   "outputs": [],
   "source": [
    "y_train = tf.keras.utils.to_categorical(y_train, 2)\n",
    "y_test = tf.keras.utils.to_categorical(y_test, 2)"
   ]
  },
  {
   "cell_type": "markdown",
   "metadata": {},
   "source": [
    "### import VGG19 model (for Transfer learning)"
   ]
  },
  {
   "cell_type": "code",
   "execution_count": null,
   "metadata": {},
   "outputs": [],
   "source": []
  },
  {
   "cell_type": "code",
   "execution_count": 8,
   "metadata": {},
   "outputs": [],
   "source": [
    "model = applications.VGG19(weights = \"imagenet\", include_top=False, input_shape = (96, 96, 3))\n",
    "\n"
   ]
  },
  {
   "cell_type": "markdown",
   "metadata": {},
   "source": [
    "### first we iterate through the model and make 20 layer non-trainable\n",
    "### then add pooling layer and add some dense layers with relu activation\n",
    "### we used categorical_crossentropy loss function and Adam as the optimizer"
   ]
  },
  {
   "cell_type": "code",
   "execution_count": 9,
   "metadata": {},
   "outputs": [],
   "source": [
    "for layer in model.layers[:20]:\n",
    "    layer.trainable = False\n",
    "x = model.output\n",
    "x =  tf.keras.layers.GlobalAveragePooling2D()(x)\n",
    "x = tf.keras.layers.Dense(2048, activation=\"relu\")(x)\n",
    "x = tf.keras.layers.Dropout(0.5)(x)\n",
    "x = tf.keras.layers.Dense(1024, activation=\"relu\")(x)\n",
    "x = tf.keras.layers.Dropout(0.5)(x)\n",
    "x = tf.keras.layers.Dense(512, activation=\"relu\")(x)\n",
    "x = tf.keras.layers.Dropout(0.5)(x)\n",
    "x = tf.keras.layers.Dense(256, activation=\"relu\")(x)\n",
    "x = tf.keras.layers.Dropout(0.5)(x)\n",
    "x = tf.keras.layers.Dense(128, activation=\"relu\")(x)\n",
    "predictions = tf.keras.layers.Dense(2, activation=\"softmax\")(x)   \n",
    "model_final = tf.keras.models.Model(model.input,predictions)\n",
    "model_final.compile(loss=\"categorical_crossentropy\", optimizer='Adam', metrics=[\"accuracy\"])\n",
    "\n",
    "    "
   ]
  },
  {
   "cell_type": "markdown",
   "metadata": {},
   "source": [
    "### then we fit the dataset to train"
   ]
  },
  {
   "cell_type": "code",
   "execution_count": 12,
   "metadata": {
    "scrolled": false
   },
   "outputs": [
    {
     "name": "stdout",
     "output_type": "stream",
     "text": [
      "Train on 2637 samples, validate on 660 samples\n",
      "Epoch 1/50\n",
      "2637/2637 [==============================] - 181s 69ms/sample - loss: 0.6113 - accuracy: 0.6610 - val_loss: 0.4072 - val_accuracy: 0.7833\n",
      "Epoch 2/50\n",
      "2637/2637 [==============================] - 191s 73ms/sample - loss: 0.3803 - accuracy: 0.8142 - val_loss: 0.4451 - val_accuracy: 0.8136\n",
      "Epoch 3/50\n",
      "2637/2637 [==============================] - 198s 75ms/sample - loss: 0.3611 - accuracy: 0.8335 - val_loss: 0.3711 - val_accuracy: 0.8136\n",
      "Epoch 4/50\n",
      "2637/2637 [==============================] - 181s 69ms/sample - loss: 0.3245 - accuracy: 0.8476 - val_loss: 0.4027 - val_accuracy: 0.8379\n",
      "Epoch 5/50\n",
      "2637/2637 [==============================] - 177s 67ms/sample - loss: 0.3042 - accuracy: 0.8559 - val_loss: 0.4140 - val_accuracy: 0.8076\n",
      "Epoch 6/50\n",
      "2637/2637 [==============================] - 190s 72ms/sample - loss: 0.2963 - accuracy: 0.8620 - val_loss: 0.4494 - val_accuracy: 0.8212\n",
      "Epoch 7/50\n",
      "2637/2637 [==============================] - 176s 67ms/sample - loss: 0.2874 - accuracy: 0.8695 - val_loss: 0.3731 - val_accuracy: 0.8348\n",
      "Epoch 8/50\n",
      "2637/2637 [==============================] - 196s 74ms/sample - loss: 0.2612 - accuracy: 0.8752 - val_loss: 0.4174 - val_accuracy: 0.8242\n",
      "Epoch 9/50\n",
      "2637/2637 [==============================] - 177s 67ms/sample - loss: 0.2404 - accuracy: 0.8878 - val_loss: 0.4607 - val_accuracy: 0.8364\n",
      "Epoch 10/50\n",
      "2637/2637 [==============================] - 184s 70ms/sample - loss: 0.2395 - accuracy: 0.8885 - val_loss: 0.5964 - val_accuracy: 0.8212\n",
      "Epoch 11/50\n",
      "2637/2637 [==============================] - 224s 85ms/sample - loss: 0.2674 - accuracy: 0.8855 - val_loss: 0.4287 - val_accuracy: 0.8258\n",
      "Epoch 12/50\n",
      "2637/2637 [==============================] - 211s 80ms/sample - loss: 0.2201 - accuracy: 0.9033 - val_loss: 0.4829 - val_accuracy: 0.8273\n",
      "Epoch 13/50\n",
      "2637/2637 [==============================] - 185s 70ms/sample - loss: 0.2229 - accuracy: 0.9033 - val_loss: 0.4664 - val_accuracy: 0.8197\n",
      "Epoch 14/50\n",
      "2637/2637 [==============================] - 197s 75ms/sample - loss: 0.2007 - accuracy: 0.9128 - val_loss: 0.8336 - val_accuracy: 0.8439\n",
      "Epoch 15/50\n",
      "2637/2637 [==============================] - 175s 66ms/sample - loss: 0.1910 - accuracy: 0.9086 - val_loss: 0.6793 - val_accuracy: 0.8364\n",
      "Epoch 16/50\n",
      "2637/2637 [==============================] - 188s 71ms/sample - loss: 0.1905 - accuracy: 0.9139 - val_loss: 0.5910 - val_accuracy: 0.8303\n",
      "Epoch 17/50\n",
      "2637/2637 [==============================] - 197s 75ms/sample - loss: 0.1636 - accuracy: 0.9302 - val_loss: 0.6406 - val_accuracy: 0.8439\n",
      "Epoch 18/50\n",
      "2637/2637 [==============================] - 202s 77ms/sample - loss: 0.1837 - accuracy: 0.9151 - val_loss: 0.7129 - val_accuracy: 0.8364\n",
      "Epoch 19/50\n",
      "2637/2637 [==============================] - 200s 76ms/sample - loss: 0.1742 - accuracy: 0.9219 - val_loss: 0.6133 - val_accuracy: 0.8500\n",
      "Epoch 20/50\n",
      "2637/2637 [==============================] - 183s 69ms/sample - loss: 0.1723 - accuracy: 0.9261 - val_loss: 0.6817 - val_accuracy: 0.8258\n",
      "Epoch 21/50\n",
      "2637/2637 [==============================] - 184s 70ms/sample - loss: 0.1584 - accuracy: 0.9291 - val_loss: 0.6013 - val_accuracy: 0.8273\n",
      "Epoch 22/50\n",
      "2637/2637 [==============================] - 184s 70ms/sample - loss: 0.1403 - accuracy: 0.9389 - val_loss: 0.7245 - val_accuracy: 0.8318\n",
      "Epoch 23/50\n",
      "2637/2637 [==============================] - 170s 65ms/sample - loss: 0.1445 - accuracy: 0.9412 - val_loss: 0.8645 - val_accuracy: 0.8182\n",
      "Epoch 24/50\n",
      "2637/2637 [==============================] - 162s 61ms/sample - loss: 0.1258 - accuracy: 0.9465 - val_loss: 1.5711 - val_accuracy: 0.7727\n",
      "Epoch 25/50\n",
      "2637/2637 [==============================] - 165s 63ms/sample - loss: 0.2095 - accuracy: 0.9181 - val_loss: 0.4589 - val_accuracy: 0.8333\n",
      "Epoch 26/50\n",
      "2637/2637 [==============================] - 162s 62ms/sample - loss: 0.1407 - accuracy: 0.9397 - val_loss: 0.8302 - val_accuracy: 0.8288\n",
      "Epoch 27/50\n",
      "2637/2637 [==============================] - 162s 61ms/sample - loss: 0.1769 - accuracy: 0.9268 - val_loss: 0.9214 - val_accuracy: 0.8242\n",
      "Epoch 28/50\n",
      "2637/2637 [==============================] - 162s 61ms/sample - loss: 0.1173 - accuracy: 0.9477 - val_loss: 1.0464 - val_accuracy: 0.8394\n",
      "Epoch 29/50\n",
      "2637/2637 [==============================] - 162s 62ms/sample - loss: 0.1174 - accuracy: 0.9503 - val_loss: 0.9534 - val_accuracy: 0.8212\n",
      "Epoch 30/50\n",
      "2637/2637 [==============================] - 164s 62ms/sample - loss: 0.1105 - accuracy: 0.9511 - val_loss: 0.8037 - val_accuracy: 0.8409\n",
      "Epoch 31/50\n",
      "2637/2637 [==============================] - 167s 63ms/sample - loss: 0.1029 - accuracy: 0.9564 - val_loss: 0.9319 - val_accuracy: 0.8470\n",
      "Epoch 32/50\n",
      "2637/2637 [==============================] - 162s 61ms/sample - loss: 0.1149 - accuracy: 0.9480 - val_loss: 0.8381 - val_accuracy: 0.8485\n",
      "Epoch 33/50\n",
      "2637/2637 [==============================] - 161s 61ms/sample - loss: 0.0822 - accuracy: 0.9617 - val_loss: 1.3315 - val_accuracy: 0.8212\n",
      "Epoch 34/50\n",
      "2637/2637 [==============================] - 161s 61ms/sample - loss: 0.1458 - accuracy: 0.9393 - val_loss: 0.7637 - val_accuracy: 0.8333\n",
      "Epoch 35/50\n",
      "2637/2637 [==============================] - 162s 61ms/sample - loss: 0.1138 - accuracy: 0.9511 - val_loss: 0.9798 - val_accuracy: 0.8439\n",
      "Epoch 36/50\n",
      "2637/2637 [==============================] - 163s 62ms/sample - loss: 0.0944 - accuracy: 0.9632 - val_loss: 0.9610 - val_accuracy: 0.8439\n",
      "Epoch 37/50\n",
      "2637/2637 [==============================] - 162s 62ms/sample - loss: 0.0934 - accuracy: 0.9617 - val_loss: 1.2835 - val_accuracy: 0.8409\n",
      "Epoch 38/50\n",
      "2637/2637 [==============================] - 162s 61ms/sample - loss: 0.0841 - accuracy: 0.9670 - val_loss: 0.8598 - val_accuracy: 0.8242\n",
      "Epoch 39/50\n",
      "2637/2637 [==============================] - 162s 61ms/sample - loss: 0.1070 - accuracy: 0.9606 - val_loss: 0.7587 - val_accuracy: 0.8152\n",
      "Epoch 40/50\n",
      "2637/2637 [==============================] - 161s 61ms/sample - loss: 0.0858 - accuracy: 0.9636 - val_loss: 1.3223 - val_accuracy: 0.8500\n",
      "Epoch 41/50\n",
      "2637/2637 [==============================] - 164s 62ms/sample - loss: 0.0740 - accuracy: 0.9708 - val_loss: 1.3763 - val_accuracy: 0.8333\n",
      "Epoch 42/50\n",
      "2637/2637 [==============================] - 180s 68ms/sample - loss: 0.0774 - accuracy: 0.9693 - val_loss: 1.1204 - val_accuracy: 0.8167\n",
      "Epoch 43/50\n",
      "2637/2637 [==============================] - 161s 61ms/sample - loss: 0.0612 - accuracy: 0.9742 - val_loss: 1.5454 - val_accuracy: 0.8348\n",
      "Epoch 44/50\n",
      "2637/2637 [==============================] - 177s 67ms/sample - loss: 0.0741 - accuracy: 0.9685 - val_loss: 1.5614 - val_accuracy: 0.8379\n",
      "Epoch 45/50\n",
      "2637/2637 [==============================] - 187s 71ms/sample - loss: 0.0587 - accuracy: 0.9788 - val_loss: 1.3304 - val_accuracy: 0.8455\n",
      "Epoch 46/50\n",
      "2637/2637 [==============================] - 176s 67ms/sample - loss: 0.0827 - accuracy: 0.9689 - val_loss: 1.0670 - val_accuracy: 0.8379\n",
      "Epoch 47/50\n",
      "2637/2637 [==============================] - 177s 67ms/sample - loss: 0.0660 - accuracy: 0.9742 - val_loss: 1.1134 - val_accuracy: 0.8455\n",
      "Epoch 48/50\n",
      "2637/2637 [==============================] - 188s 71ms/sample - loss: 0.0523 - accuracy: 0.9788 - val_loss: 1.3550 - val_accuracy: 0.8273\n",
      "Epoch 49/50\n",
      "2637/2637 [==============================] - 175s 66ms/sample - loss: 0.0582 - accuracy: 0.9765 - val_loss: 1.3770 - val_accuracy: 0.8424\n",
      "Epoch 50/50\n",
      "2637/2637 [==============================] - 163s 62ms/sample - loss: 0.0550 - accuracy: 0.9799 - val_loss: 1.5963 - val_accuracy: 0.8424\n"
     ]
    }
   ],
   "source": [
    "history=model_final.fit(x_train, y_train,\n",
    "          batch_size=32,\n",
    "          epochs=50,\n",
    "          verbose=1,\n",
    "          validation_data=(x_test, y_test))"
   ]
  },
  {
   "cell_type": "markdown",
   "metadata": {},
   "source": [
    "### evaluate the model"
   ]
  },
  {
   "cell_type": "code",
   "execution_count": 13,
   "metadata": {},
   "outputs": [],
   "source": [
    "score = model_final.evaluate(x_test, y_test, verbose=0)"
   ]
  },
  {
   "cell_type": "code",
   "execution_count": 14,
   "metadata": {},
   "outputs": [
    {
     "name": "stdout",
     "output_type": "stream",
     "text": [
      "Test loss: 1.5963197578083386\n",
      "Test accuracy: 0.8424242\n"
     ]
    }
   ],
   "source": [
    "print('Test loss:', score[0])\n",
    "print('Test accuracy:', score[1])"
   ]
  },
  {
   "cell_type": "markdown",
   "metadata": {},
   "source": [
    "### Graphs"
   ]
  },
  {
   "cell_type": "code",
   "execution_count": 15,
   "metadata": {},
   "outputs": [
    {
     "name": "stdout",
     "output_type": "stream",
     "text": [
      "dict_keys(['loss', 'accuracy', 'val_loss', 'val_accuracy'])\n"
     ]
    },
    {
     "data": {
      "image/png": "[encoded data removed]",
      "text/plain": [
       "<Figure size 432x288 with 1 Axes>"
      ]
     },
     "metadata": {
      "needs_background": "light"
     },
     "output_type": "display_data"
    },
    {
     "data": {
      "image/png": "[encoded data removed]",
      "text/plain": [
       "<Figure size 432x288 with 1 Axes>"
      ]
     },
     "metadata": {
      "needs_background": "light"
     },
     "output_type": "display_data"
    }
   ],
   "source": [
    "print(history.history.keys())\n",
    "\n",
    "plt.plot(history.history['accuracy'])\n",
    "plt.plot(history.history['val_accuracy'])\n",
    "plt.title('model accuracy')\n",
    "plt.ylabel('accuracy')\n",
    "plt.xlabel('epochs')\n",
    "plt.legend(['train', 'test'], loc='upper left')\n",
    "plt.show()\n",
    "\n",
    "plt.plot(history.history['loss'])\n",
    "plt.plot(history.history['val_loss'])\n",
    "plt.title('model loss')\n",
    "plt.ylabel('loss')\n",
    "plt.xlabel('epochs')\n",
    "plt.legend(['train', 'test'], loc='upper right')\n",
    "plt.show()"
   ]
  },
  {
   "cell_type": "markdown",
   "metadata": {},
   "source": [
    "### save model"
   ]
  },
  {
   "cell_type": "code",
   "execution_count": null,
   "metadata": {},
   "outputs": [],
   "source": [
    "# model_final.save(\"model.h5\")"
   ]
  },
  {
   "cell_type": "code",
   "execution_count": null,
   "metadata": {},
   "outputs": [],
   "source": []
  },
  {
   "cell_type": "code",
   "execution_count": null,
   "metadata": {},
   "outputs": [],
   "source": []
  },
  {
   "cell_type": "code",
   "execution_count": null,
   "metadata": {},
   "outputs": [],
   "source": []
  },
  {
   "cell_type": "code",
   "execution_count": null,
   "metadata": {},
   "outputs": [],
   "source": []
  }
 ],
 "metadata": {
  "kernelspec": {
   "display_name": "Python 3",
   "language": "python",
   "name": "python3"
  },
  "language_info": {
   "codemirror_mode": {
    "name": "ipython",
    "version": 3
   },
   "file_extension": ".py",
   "mimetype": "text/x-python",
   "name": "python",
   "nbconvert_exporter": "python",
   "pygments_lexer": "ipython3",
   "version": "3.6.10"
  }
 },
 "nbformat": 4,
 "nbformat_minor": 2
}
